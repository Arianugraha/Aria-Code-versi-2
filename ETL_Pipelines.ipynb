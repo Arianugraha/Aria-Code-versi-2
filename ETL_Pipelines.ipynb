{
  "nbformat": 4,
  "nbformat_minor": 0,
  "metadata": {
    "colab": {
      "name": "ETL Pipelines.ipynb",
      "provenance": [],
      "include_colab_link": true
    },
    "kernelspec": {
      "name": "python3",
      "display_name": "Python 3"
    },
    "language_info": {
      "name": "python"
    }
  },
  "cells": [
    {
      "cell_type": "markdown",
      "metadata": {
        "id": "view-in-github",
        "colab_type": "text"
      },
      "source": [
        "<a href=\"https://colab.research.google.com/github/Arianugraha/Aria-Code-versi-2/blob/main/ETL_Pipelines.ipynb\" target=\"_parent\"><img src=\"https://colab.research.google.com/assets/colab-badge.svg\" alt=\"Open In Colab\"/></a>"
      ]
    },
    {
      "cell_type": "code",
      "source": [
        "import pandas as pd\n",
        "import numpy as np"
      ],
      "metadata": {
        "id": "hQvBcETDak8Z"
      },
      "execution_count": null,
      "outputs": []
    },
    {
      "cell_type": "markdown",
      "source": [
        "# Extract"
      ],
      "metadata": {
        "id": "5GfQJDH8aaaZ"
      }
    },
    {
      "cell_type": "markdown",
      "source": [
        "Extract CSV"
      ],
      "metadata": {
        "id": "zji9ixjkadIo"
      }
    },
    {
      "cell_type": "code",
      "execution_count": null,
      "metadata": {
        "id": "PIZ8m24RJWjV"
      },
      "outputs": [],
      "source": [
        "df_projects = pd.read_csv('projects_data.csv', dtype = \"str\")"
      ]
    },
    {
      "cell_type": "code",
      "source": [
        "df_projects.head() #5 Baris teratas"
      ],
      "metadata": {
        "colab": {
          "base_uri": "https://localhost:8080/",
          "height": 543
        },
        "id": "yst1khe8bKv2",
        "outputId": "b6b6b920-72f1-40d9-d8c6-beb4be065c8f"
      },
      "execution_count": null,
      "outputs": [
        {
          "output_type": "execute_result",
          "data": {
            "text/plain": [
              "        id  regionname                                        countryname  \\\n",
              "0  P162228       Other                                        World;World   \n",
              "1  P163962      Africa  Democratic Republic of the Congo;Democratic Re...   \n",
              "2  P167672  South Asia  People's Republic of Bangladesh;People's Repub...   \n",
              "3  P158768  South Asia  Islamic  Republic of Afghanistan;Islamic  Repu...   \n",
              "4  P161364      Africa  Federal Republic of Nigeria;Federal Republic o...   \n",
              "\n",
              "  prodline                  lendinginstr lendinginstrtype  \\\n",
              "0       RE  Investment Project Financing               IN   \n",
              "1       PE  Investment Project Financing               IN   \n",
              "2       PE  Investment Project Financing               IN   \n",
              "3       PE  Investment Project Financing               IN   \n",
              "4       PE  Investment Project Financing               IN   \n",
              "\n",
              "  envassesmentcategorycode supplementprojectflg productlinetype  \\\n",
              "0                        C                    N               L   \n",
              "1                        B                    N               L   \n",
              "2                      NaN                    Y               L   \n",
              "3                        A                    N               L   \n",
              "4                        B                    N               L   \n",
              "\n",
              "  projectstatusdisplay  ... mjtheme3name mjtheme4name mjtheme5name  \\\n",
              "0               Active  ...          NaN          NaN          NaN   \n",
              "1               Active  ...          NaN          NaN          NaN   \n",
              "2               Active  ...          NaN          NaN          NaN   \n",
              "3               Active  ...          NaN          NaN          NaN   \n",
              "4               Active  ...          NaN          NaN          NaN   \n",
              "\n",
              "                                            location  \\\n",
              "0                                                NaN   \n",
              "1                                                NaN   \n",
              "2                                                NaN   \n",
              "3                                                NaN   \n",
              "4  0002327546!$!Ogun State!$!7!$!3.58333!$!NG;000...   \n",
              "\n",
              "                                            GeoLocID  \\\n",
              "0                                                NaN   \n",
              "1                                                NaN   \n",
              "2                                                NaN   \n",
              "3                                                NaN   \n",
              "4  0002327546;0002328925;0002565340;0002565343;00...   \n",
              "\n",
              "                                          GeoLocName                 Latitude  \\\n",
              "0                                                NaN                      NaN   \n",
              "1                                                NaN                      NaN   \n",
              "2                                                NaN                      NaN   \n",
              "3                                                NaN                      NaN   \n",
              "4  Ogun State;Niger State;Abia State;Edo;Kebbi St...  7;10;5.41667;6.5;11.5;8   \n",
              "\n",
              "                Longitude            Country Unnamed: 56  \n",
              "0                     NaN                NaN         NaN  \n",
              "1                     NaN                NaN         NaN  \n",
              "2                     NaN                NaN         NaN  \n",
              "3                     NaN                NaN         NaN  \n",
              "4  3.58333;6;7.5;6;4;10.5  NG;NG;NG;NG;NG;NG         NaN  \n",
              "\n",
              "[5 rows x 57 columns]"
            ],
            "text/html": [
              "\n",
              "  <div id=\"df-a650bb10-a30d-444a-9e1c-26c3ee510358\">\n",
              "    <div class=\"colab-df-container\">\n",
              "      <div>\n",
              "<style scoped>\n",
              "    .dataframe tbody tr th:only-of-type {\n",
              "        vertical-align: middle;\n",
              "    }\n",
              "\n",
              "    .dataframe tbody tr th {\n",
              "        vertical-align: top;\n",
              "    }\n",
              "\n",
              "    .dataframe thead th {\n",
              "        text-align: right;\n",
              "    }\n",
              "</style>\n",
              "<table border=\"1\" class=\"dataframe\">\n",
              "  <thead>\n",
              "    <tr style=\"text-align: right;\">\n",
              "      <th></th>\n",
              "      <th>id</th>\n",
              "      <th>regionname</th>\n",
              "      <th>countryname</th>\n",
              "      <th>prodline</th>\n",
              "      <th>lendinginstr</th>\n",
              "      <th>lendinginstrtype</th>\n",
              "      <th>envassesmentcategorycode</th>\n",
              "      <th>supplementprojectflg</th>\n",
              "      <th>productlinetype</th>\n",
              "      <th>projectstatusdisplay</th>\n",
              "      <th>...</th>\n",
              "      <th>mjtheme3name</th>\n",
              "      <th>mjtheme4name</th>\n",
              "      <th>mjtheme5name</th>\n",
              "      <th>location</th>\n",
              "      <th>GeoLocID</th>\n",
              "      <th>GeoLocName</th>\n",
              "      <th>Latitude</th>\n",
              "      <th>Longitude</th>\n",
              "      <th>Country</th>\n",
              "      <th>Unnamed: 56</th>\n",
              "    </tr>\n",
              "  </thead>\n",
              "  <tbody>\n",
              "    <tr>\n",
              "      <th>0</th>\n",
              "      <td>P162228</td>\n",
              "      <td>Other</td>\n",
              "      <td>World;World</td>\n",
              "      <td>RE</td>\n",
              "      <td>Investment Project Financing</td>\n",
              "      <td>IN</td>\n",
              "      <td>C</td>\n",
              "      <td>N</td>\n",
              "      <td>L</td>\n",
              "      <td>Active</td>\n",
              "      <td>...</td>\n",
              "      <td>NaN</td>\n",
              "      <td>NaN</td>\n",
              "      <td>NaN</td>\n",
              "      <td>NaN</td>\n",
              "      <td>NaN</td>\n",
              "      <td>NaN</td>\n",
              "      <td>NaN</td>\n",
              "      <td>NaN</td>\n",
              "      <td>NaN</td>\n",
              "      <td>NaN</td>\n",
              "    </tr>\n",
              "    <tr>\n",
              "      <th>1</th>\n",
              "      <td>P163962</td>\n",
              "      <td>Africa</td>\n",
              "      <td>Democratic Republic of the Congo;Democratic Re...</td>\n",
              "      <td>PE</td>\n",
              "      <td>Investment Project Financing</td>\n",
              "      <td>IN</td>\n",
              "      <td>B</td>\n",
              "      <td>N</td>\n",
              "      <td>L</td>\n",
              "      <td>Active</td>\n",
              "      <td>...</td>\n",
              "      <td>NaN</td>\n",
              "      <td>NaN</td>\n",
              "      <td>NaN</td>\n",
              "      <td>NaN</td>\n",
              "      <td>NaN</td>\n",
              "      <td>NaN</td>\n",
              "      <td>NaN</td>\n",
              "      <td>NaN</td>\n",
              "      <td>NaN</td>\n",
              "      <td>NaN</td>\n",
              "    </tr>\n",
              "    <tr>\n",
              "      <th>2</th>\n",
              "      <td>P167672</td>\n",
              "      <td>South Asia</td>\n",
              "      <td>People's Republic of Bangladesh;People's Repub...</td>\n",
              "      <td>PE</td>\n",
              "      <td>Investment Project Financing</td>\n",
              "      <td>IN</td>\n",
              "      <td>NaN</td>\n",
              "      <td>Y</td>\n",
              "      <td>L</td>\n",
              "      <td>Active</td>\n",
              "      <td>...</td>\n",
              "      <td>NaN</td>\n",
              "      <td>NaN</td>\n",
              "      <td>NaN</td>\n",
              "      <td>NaN</td>\n",
              "      <td>NaN</td>\n",
              "      <td>NaN</td>\n",
              "      <td>NaN</td>\n",
              "      <td>NaN</td>\n",
              "      <td>NaN</td>\n",
              "      <td>NaN</td>\n",
              "    </tr>\n",
              "    <tr>\n",
              "      <th>3</th>\n",
              "      <td>P158768</td>\n",
              "      <td>South Asia</td>\n",
              "      <td>Islamic  Republic of Afghanistan;Islamic  Repu...</td>\n",
              "      <td>PE</td>\n",
              "      <td>Investment Project Financing</td>\n",
              "      <td>IN</td>\n",
              "      <td>A</td>\n",
              "      <td>N</td>\n",
              "      <td>L</td>\n",
              "      <td>Active</td>\n",
              "      <td>...</td>\n",
              "      <td>NaN</td>\n",
              "      <td>NaN</td>\n",
              "      <td>NaN</td>\n",
              "      <td>NaN</td>\n",
              "      <td>NaN</td>\n",
              "      <td>NaN</td>\n",
              "      <td>NaN</td>\n",
              "      <td>NaN</td>\n",
              "      <td>NaN</td>\n",
              "      <td>NaN</td>\n",
              "    </tr>\n",
              "    <tr>\n",
              "      <th>4</th>\n",
              "      <td>P161364</td>\n",
              "      <td>Africa</td>\n",
              "      <td>Federal Republic of Nigeria;Federal Republic o...</td>\n",
              "      <td>PE</td>\n",
              "      <td>Investment Project Financing</td>\n",
              "      <td>IN</td>\n",
              "      <td>B</td>\n",
              "      <td>N</td>\n",
              "      <td>L</td>\n",
              "      <td>Active</td>\n",
              "      <td>...</td>\n",
              "      <td>NaN</td>\n",
              "      <td>NaN</td>\n",
              "      <td>NaN</td>\n",
              "      <td>0002327546!$!Ogun State!$!7!$!3.58333!$!NG;000...</td>\n",
              "      <td>0002327546;0002328925;0002565340;0002565343;00...</td>\n",
              "      <td>Ogun State;Niger State;Abia State;Edo;Kebbi St...</td>\n",
              "      <td>7;10;5.41667;6.5;11.5;8</td>\n",
              "      <td>3.58333;6;7.5;6;4;10.5</td>\n",
              "      <td>NG;NG;NG;NG;NG;NG</td>\n",
              "      <td>NaN</td>\n",
              "    </tr>\n",
              "  </tbody>\n",
              "</table>\n",
              "<p>5 rows × 57 columns</p>\n",
              "</div>\n",
              "      <button class=\"colab-df-convert\" onclick=\"convertToInteractive('df-a650bb10-a30d-444a-9e1c-26c3ee510358')\"\n",
              "              title=\"Convert this dataframe to an interactive table.\"\n",
              "              style=\"display:none;\">\n",
              "        \n",
              "  <svg xmlns=\"http://www.w3.org/2000/svg\" height=\"24px\"viewBox=\"0 0 24 24\"\n",
              "       width=\"24px\">\n",
              "    <path d=\"M0 0h24v24H0V0z\" fill=\"none\"/>\n",
              "    <path d=\"M18.56 5.44l.94 2.06.94-2.06 2.06-.94-2.06-.94-.94-2.06-.94 2.06-2.06.94zm-11 1L8.5 8.5l.94-2.06 2.06-.94-2.06-.94L8.5 2.5l-.94 2.06-2.06.94zm10 10l.94 2.06.94-2.06 2.06-.94-2.06-.94-.94-2.06-.94 2.06-2.06.94z\"/><path d=\"M17.41 7.96l-1.37-1.37c-.4-.4-.92-.59-1.43-.59-.52 0-1.04.2-1.43.59L10.3 9.45l-7.72 7.72c-.78.78-.78 2.05 0 2.83L4 21.41c.39.39.9.59 1.41.59.51 0 1.02-.2 1.41-.59l7.78-7.78 2.81-2.81c.8-.78.8-2.07 0-2.86zM5.41 20L4 18.59l7.72-7.72 1.47 1.35L5.41 20z\"/>\n",
              "  </svg>\n",
              "      </button>\n",
              "      \n",
              "  <style>\n",
              "    .colab-df-container {\n",
              "      display:flex;\n",
              "      flex-wrap:wrap;\n",
              "      gap: 12px;\n",
              "    }\n",
              "\n",
              "    .colab-df-convert {\n",
              "      background-color: #E8F0FE;\n",
              "      border: none;\n",
              "      border-radius: 50%;\n",
              "      cursor: pointer;\n",
              "      display: none;\n",
              "      fill: #1967D2;\n",
              "      height: 32px;\n",
              "      padding: 0 0 0 0;\n",
              "      width: 32px;\n",
              "    }\n",
              "\n",
              "    .colab-df-convert:hover {\n",
              "      background-color: #E2EBFA;\n",
              "      box-shadow: 0px 1px 2px rgba(60, 64, 67, 0.3), 0px 1px 3px 1px rgba(60, 64, 67, 0.15);\n",
              "      fill: #174EA6;\n",
              "    }\n",
              "\n",
              "    [theme=dark] .colab-df-convert {\n",
              "      background-color: #3B4455;\n",
              "      fill: #D2E3FC;\n",
              "    }\n",
              "\n",
              "    [theme=dark] .colab-df-convert:hover {\n",
              "      background-color: #434B5C;\n",
              "      box-shadow: 0px 1px 3px 1px rgba(0, 0, 0, 0.15);\n",
              "      filter: drop-shadow(0px 1px 2px rgba(0, 0, 0, 0.3));\n",
              "      fill: #FFFFFF;\n",
              "    }\n",
              "  </style>\n",
              "\n",
              "      <script>\n",
              "        const buttonEl =\n",
              "          document.querySelector('#df-a650bb10-a30d-444a-9e1c-26c3ee510358 button.colab-df-convert');\n",
              "        buttonEl.style.display =\n",
              "          google.colab.kernel.accessAllowed ? 'block' : 'none';\n",
              "\n",
              "        async function convertToInteractive(key) {\n",
              "          const element = document.querySelector('#df-a650bb10-a30d-444a-9e1c-26c3ee510358');\n",
              "          const dataTable =\n",
              "            await google.colab.kernel.invokeFunction('convertToInteractive',\n",
              "                                                     [key], {});\n",
              "          if (!dataTable) return;\n",
              "\n",
              "          const docLinkHtml = 'Like what you see? Visit the ' +\n",
              "            '<a target=\"_blank\" href=https://colab.research.google.com/notebooks/data_table.ipynb>data table notebook</a>'\n",
              "            + ' to learn more about interactive tables.';\n",
              "          element.innerHTML = '';\n",
              "          dataTable['output_type'] = 'display_data';\n",
              "          await google.colab.output.renderOutput(dataTable, element);\n",
              "          const docLink = document.createElement('div');\n",
              "          docLink.innerHTML = docLinkHtml;\n",
              "          element.appendChild(docLink);\n",
              "        }\n",
              "      </script>\n",
              "    </div>\n",
              "  </div>\n",
              "  "
            ]
          },
          "metadata": {},
          "execution_count": 6
        }
      ]
    },
    {
      "cell_type": "code",
      "source": [
        "df_projects.info()"
      ],
      "metadata": {
        "colab": {
          "base_uri": "https://localhost:8080/"
        },
        "id": "612OO0xzbN1p",
        "outputId": "0e822b28-561d-4049-87d1-3897eb3f0b8a"
      },
      "execution_count": null,
      "outputs": [
        {
          "output_type": "stream",
          "name": "stdout",
          "text": [
            "<class 'pandas.core.frame.DataFrame'>\n",
            "RangeIndex: 18248 entries, 0 to 18247\n",
            "Data columns (total 57 columns):\n",
            " #   Column                    Non-Null Count  Dtype \n",
            "---  ------                    --------------  ----- \n",
            " 0   id                        18248 non-null  object\n",
            " 1   regionname                18248 non-null  object\n",
            " 2   countryname               18248 non-null  object\n",
            " 3   prodline                  18248 non-null  object\n",
            " 4   lendinginstr              18002 non-null  object\n",
            " 5   lendinginstrtype          18002 non-null  object\n",
            " 6   envassesmentcategorycode  12437 non-null  object\n",
            " 7   supplementprojectflg      18195 non-null  object\n",
            " 8   productlinetype           18248 non-null  object\n",
            " 9   projectstatusdisplay      18244 non-null  object\n",
            " 10  status                    18244 non-null  object\n",
            " 11  project_name              18248 non-null  object\n",
            " 12  boardapprovaldate         16744 non-null  object\n",
            " 13  board_approval_month      16744 non-null  object\n",
            " 14  closingdate               14899 non-null  object\n",
            " 15  lendprojectcost           18123 non-null  object\n",
            " 16  ibrdcommamt               18248 non-null  object\n",
            " 17  idacommamt                18248 non-null  object\n",
            " 18  totalamt                  18248 non-null  object\n",
            " 19  grantamt                  18248 non-null  object\n",
            " 20  borrower                  12329 non-null  object\n",
            " 21  impagency                 12151 non-null  object\n",
            " 22  url                       18248 non-null  object\n",
            " 23  projectdoc                0 non-null      object\n",
            " 24  majorsector_percent       0 non-null      object\n",
            " 25  sector1                   18248 non-null  object\n",
            " 26  sector2                   9527 non-null   object\n",
            " 27  sector3                   6487 non-null   object\n",
            " 28  sector4                   4376 non-null   object\n",
            " 29  sector5                   2713 non-null   object\n",
            " 30  sector                    17610 non-null  object\n",
            " 31  mjsector1                 0 non-null      object\n",
            " 32  mjsector2                 0 non-null      object\n",
            " 33  mjsector3                 0 non-null      object\n",
            " 34  mjsector4                 0 non-null      object\n",
            " 35  mjsector5                 0 non-null      object\n",
            " 36  mjsector                  17610 non-null  object\n",
            " 37  theme1                    18248 non-null  object\n",
            " 38  theme2                    9853 non-null   object\n",
            " 39  theme3                    7484 non-null   object\n",
            " 40  theme4                    5234 non-null   object\n",
            " 41  theme5                    2928 non-null   object\n",
            " 42  theme                     0 non-null      object\n",
            " 43  goal                      12133 non-null  object\n",
            " 44  financier                 7060 non-null   object\n",
            " 45  mjtheme1name              0 non-null      object\n",
            " 46  mjtheme2name              0 non-null      object\n",
            " 47  mjtheme3name              0 non-null      object\n",
            " 48  mjtheme4name              0 non-null      object\n",
            " 49  mjtheme5name              0 non-null      object\n",
            " 50  location                  4326 non-null   object\n",
            " 51  GeoLocID                  4326 non-null   object\n",
            " 52  GeoLocName                4325 non-null   object\n",
            " 53  Latitude                  4326 non-null   object\n",
            " 54  Longitude                 4326 non-null   object\n",
            " 55  Country                   4203 non-null   object\n",
            " 56  Unnamed: 56               0 non-null      object\n",
            "dtypes: object(57)\n",
            "memory usage: 7.9+ MB\n"
          ]
        }
      ]
    },
    {
      "cell_type": "code",
      "source": [
        "df_projects.isnull().sum().sort_values(ascending = False)"
      ],
      "metadata": {
        "colab": {
          "base_uri": "https://localhost:8080/"
        },
        "id": "j5rIcuIBcr7_",
        "outputId": "396354eb-10a2-4c9c-9544-4ae9791751a0"
      },
      "execution_count": null,
      "outputs": [
        {
          "output_type": "execute_result",
          "data": {
            "text/plain": [
              "Unnamed: 56                 18248\n",
              "mjtheme3name                18248\n",
              "mjsector1                   18248\n",
              "mjsector2                   18248\n",
              "mjsector3                   18248\n",
              "mjsector4                   18248\n",
              "mjsector5                   18248\n",
              "theme                       18248\n",
              "mjtheme1name                18248\n",
              "projectdoc                  18248\n",
              "mjtheme2name                18248\n",
              "mjtheme4name                18248\n",
              "mjtheme5name                18248\n",
              "majorsector_percent         18248\n",
              "sector5                     15535\n",
              "theme5                      15320\n",
              "Country                     14045\n",
              "GeoLocName                  13923\n",
              "location                    13922\n",
              "GeoLocID                    13922\n",
              "Latitude                    13922\n",
              "Longitude                   13922\n",
              "sector4                     13872\n",
              "theme4                      13014\n",
              "sector3                     11761\n",
              "financier                   11188\n",
              "theme3                      10764\n",
              "sector2                      8721\n",
              "theme2                       8395\n",
              "goal                         6115\n",
              "impagency                    6097\n",
              "borrower                     5919\n",
              "envassesmentcategorycode     5811\n",
              "closingdate                  3349\n",
              "boardapprovaldate            1504\n",
              "board_approval_month         1504\n",
              "sector                        638\n",
              "mjsector                      638\n",
              "lendinginstrtype              246\n",
              "lendinginstr                  246\n",
              "lendprojectcost               125\n",
              "supplementprojectflg           53\n",
              "status                          4\n",
              "projectstatusdisplay            4\n",
              "productlinetype                 0\n",
              "prodline                        0\n",
              "countryname                     0\n",
              "url                             0\n",
              "project_name                    0\n",
              "theme1                          0\n",
              "ibrdcommamt                     0\n",
              "idacommamt                      0\n",
              "totalamt                        0\n",
              "grantamt                        0\n",
              "regionname                      0\n",
              "sector1                         0\n",
              "id                              0\n",
              "dtype: int64"
            ]
          },
          "metadata": {},
          "execution_count": 12
        }
      ]
    },
    {
      "cell_type": "code",
      "source": [
        "df_projects.shape"
      ],
      "metadata": {
        "colab": {
          "base_uri": "https://localhost:8080/"
        },
        "id": "vh4oqCljdTjB",
        "outputId": "bd6bd719-b080-42bd-e130-bfa8ccfcd1a9"
      },
      "execution_count": null,
      "outputs": [
        {
          "output_type": "execute_result",
          "data": {
            "text/plain": [
              "(18248, 57)"
            ]
          },
          "metadata": {},
          "execution_count": 14
        }
      ]
    },
    {
      "cell_type": "code",
      "source": [
        "df_projects.drop('Unnamed: 56', axis = 1, inplace = True)"
      ],
      "metadata": {
        "id": "oUWNssbTeKcM"
      },
      "execution_count": null,
      "outputs": []
    },
    {
      "cell_type": "code",
      "source": [
        "df_projects.columns"
      ],
      "metadata": {
        "colab": {
          "base_uri": "https://localhost:8080/"
        },
        "id": "iunX5yELenz-",
        "outputId": "d0695b8f-9abf-44b7-9bcc-7dc46fda82de"
      },
      "execution_count": null,
      "outputs": [
        {
          "output_type": "execute_result",
          "data": {
            "text/plain": [
              "Index(['id', 'regionname', 'countryname', 'prodline', 'lendinginstr',\n",
              "       'lendinginstrtype', 'envassesmentcategorycode', 'supplementprojectflg',\n",
              "       'productlinetype', 'projectstatusdisplay', 'status', 'project_name',\n",
              "       'boardapprovaldate', 'board_approval_month', 'closingdate',\n",
              "       'lendprojectcost', 'ibrdcommamt', 'idacommamt', 'totalamt', 'grantamt',\n",
              "       'borrower', 'impagency', 'url', 'projectdoc ', 'majorsector_percent ',\n",
              "       'sector1', 'sector2', 'sector3', 'sector4', 'sector5', 'sector',\n",
              "       'mjsector1', 'mjsector2', 'mjsector3', 'mjsector4', 'mjsector5',\n",
              "       'mjsector', 'theme1', 'theme2', 'theme3', 'theme4', 'theme5', 'theme ',\n",
              "       'goal', 'financier', 'mjtheme1name', 'mjtheme2name', 'mjtheme3name',\n",
              "       'mjtheme4name', 'mjtheme5name', 'location', 'GeoLocID', 'GeoLocName',\n",
              "       'Latitude', 'Longitude', 'Country'],\n",
              "      dtype='object')"
            ]
          },
          "metadata": {},
          "execution_count": 16
        }
      ]
    },
    {
      "cell_type": "markdown",
      "source": [
        "### Extract JSON"
      ],
      "metadata": {
        "id": "q4dfq-uOfQWo"
      }
    },
    {
      "cell_type": "code",
      "source": [
        "df_json = pd.read_json('population_data.json', orient = 'records')"
      ],
      "metadata": {
        "id": "QZeUc8KBep8F"
      },
      "execution_count": null,
      "outputs": []
    },
    {
      "cell_type": "code",
      "source": [
        "df_json.head()"
      ],
      "metadata": {
        "colab": {
          "base_uri": "https://localhost:8080/",
          "height": 404
        },
        "id": "6Vz2PJm2fnue",
        "outputId": "3a402f65-3ac1-43db-f7fe-57e9ced04158"
      },
      "execution_count": null,
      "outputs": [
        {
          "output_type": "execute_result",
          "data": {
            "text/plain": [
              "  Country Name Country Code     Indicator Name Indicator Code       1960  \\\n",
              "0        Aruba          ABW  Population, total    SP.POP.TOTL    54211.0   \n",
              "1  Afghanistan          AFG  Population, total    SP.POP.TOTL  8996351.0   \n",
              "2       Angola          AGO  Population, total    SP.POP.TOTL  5643182.0   \n",
              "3      Albania          ALB  Population, total    SP.POP.TOTL  1608800.0   \n",
              "4      Andorra          AND  Population, total    SP.POP.TOTL    13411.0   \n",
              "\n",
              "        1961       1962       1963       1964       1965  ...        2008  \\\n",
              "0    55438.0    56225.0    56695.0    57032.0    57360.0  ...    101353.0   \n",
              "1  9166764.0  9345868.0  9533954.0  9731361.0  9938414.0  ...  27294031.0   \n",
              "2  5753024.0  5866061.0  5980417.0  6093321.0  6203299.0  ...  21759420.0   \n",
              "3  1659800.0  1711319.0  1762621.0  1814135.0  1864791.0  ...   2947314.0   \n",
              "4    14375.0    15370.0    16412.0    17469.0    18549.0  ...     83861.0   \n",
              "\n",
              "         2009        2010        2011        2012        2013        2014  \\\n",
              "0    101453.0    101669.0    102053.0    102577.0    103187.0    103795.0   \n",
              "1  28004331.0  28803167.0  29708599.0  30696958.0  31731688.0  32758020.0   \n",
              "2  22549547.0  23369131.0  24218565.0  25096150.0  25998340.0  26920466.0   \n",
              "3   2927519.0   2913021.0   2905195.0   2900401.0   2895092.0   2889104.0   \n",
              "4     84462.0     84449.0     83751.0     82431.0     80788.0     79223.0   \n",
              "\n",
              "         2015        2016        2017  \n",
              "0    104341.0    104822.0    105264.0  \n",
              "1  33736494.0  34656032.0  35530081.0  \n",
              "2  27859305.0  28813463.0  29784193.0  \n",
              "3   2880703.0   2876101.0   2873457.0  \n",
              "4     78014.0     77281.0     76965.0  \n",
              "\n",
              "[5 rows x 62 columns]"
            ],
            "text/html": [
              "\n",
              "  <div id=\"df-dfd07373-fb71-42ba-98bc-698006912bec\">\n",
              "    <div class=\"colab-df-container\">\n",
              "      <div>\n",
              "<style scoped>\n",
              "    .dataframe tbody tr th:only-of-type {\n",
              "        vertical-align: middle;\n",
              "    }\n",
              "\n",
              "    .dataframe tbody tr th {\n",
              "        vertical-align: top;\n",
              "    }\n",
              "\n",
              "    .dataframe thead th {\n",
              "        text-align: right;\n",
              "    }\n",
              "</style>\n",
              "<table border=\"1\" class=\"dataframe\">\n",
              "  <thead>\n",
              "    <tr style=\"text-align: right;\">\n",
              "      <th></th>\n",
              "      <th>Country Name</th>\n",
              "      <th>Country Code</th>\n",
              "      <th>Indicator Name</th>\n",
              "      <th>Indicator Code</th>\n",
              "      <th>1960</th>\n",
              "      <th>1961</th>\n",
              "      <th>1962</th>\n",
              "      <th>1963</th>\n",
              "      <th>1964</th>\n",
              "      <th>1965</th>\n",
              "      <th>...</th>\n",
              "      <th>2008</th>\n",
              "      <th>2009</th>\n",
              "      <th>2010</th>\n",
              "      <th>2011</th>\n",
              "      <th>2012</th>\n",
              "      <th>2013</th>\n",
              "      <th>2014</th>\n",
              "      <th>2015</th>\n",
              "      <th>2016</th>\n",
              "      <th>2017</th>\n",
              "    </tr>\n",
              "  </thead>\n",
              "  <tbody>\n",
              "    <tr>\n",
              "      <th>0</th>\n",
              "      <td>Aruba</td>\n",
              "      <td>ABW</td>\n",
              "      <td>Population, total</td>\n",
              "      <td>SP.POP.TOTL</td>\n",
              "      <td>54211.0</td>\n",
              "      <td>55438.0</td>\n",
              "      <td>56225.0</td>\n",
              "      <td>56695.0</td>\n",
              "      <td>57032.0</td>\n",
              "      <td>57360.0</td>\n",
              "      <td>...</td>\n",
              "      <td>101353.0</td>\n",
              "      <td>101453.0</td>\n",
              "      <td>101669.0</td>\n",
              "      <td>102053.0</td>\n",
              "      <td>102577.0</td>\n",
              "      <td>103187.0</td>\n",
              "      <td>103795.0</td>\n",
              "      <td>104341.0</td>\n",
              "      <td>104822.0</td>\n",
              "      <td>105264.0</td>\n",
              "    </tr>\n",
              "    <tr>\n",
              "      <th>1</th>\n",
              "      <td>Afghanistan</td>\n",
              "      <td>AFG</td>\n",
              "      <td>Population, total</td>\n",
              "      <td>SP.POP.TOTL</td>\n",
              "      <td>8996351.0</td>\n",
              "      <td>9166764.0</td>\n",
              "      <td>9345868.0</td>\n",
              "      <td>9533954.0</td>\n",
              "      <td>9731361.0</td>\n",
              "      <td>9938414.0</td>\n",
              "      <td>...</td>\n",
              "      <td>27294031.0</td>\n",
              "      <td>28004331.0</td>\n",
              "      <td>28803167.0</td>\n",
              "      <td>29708599.0</td>\n",
              "      <td>30696958.0</td>\n",
              "      <td>31731688.0</td>\n",
              "      <td>32758020.0</td>\n",
              "      <td>33736494.0</td>\n",
              "      <td>34656032.0</td>\n",
              "      <td>35530081.0</td>\n",
              "    </tr>\n",
              "    <tr>\n",
              "      <th>2</th>\n",
              "      <td>Angola</td>\n",
              "      <td>AGO</td>\n",
              "      <td>Population, total</td>\n",
              "      <td>SP.POP.TOTL</td>\n",
              "      <td>5643182.0</td>\n",
              "      <td>5753024.0</td>\n",
              "      <td>5866061.0</td>\n",
              "      <td>5980417.0</td>\n",
              "      <td>6093321.0</td>\n",
              "      <td>6203299.0</td>\n",
              "      <td>...</td>\n",
              "      <td>21759420.0</td>\n",
              "      <td>22549547.0</td>\n",
              "      <td>23369131.0</td>\n",
              "      <td>24218565.0</td>\n",
              "      <td>25096150.0</td>\n",
              "      <td>25998340.0</td>\n",
              "      <td>26920466.0</td>\n",
              "      <td>27859305.0</td>\n",
              "      <td>28813463.0</td>\n",
              "      <td>29784193.0</td>\n",
              "    </tr>\n",
              "    <tr>\n",
              "      <th>3</th>\n",
              "      <td>Albania</td>\n",
              "      <td>ALB</td>\n",
              "      <td>Population, total</td>\n",
              "      <td>SP.POP.TOTL</td>\n",
              "      <td>1608800.0</td>\n",
              "      <td>1659800.0</td>\n",
              "      <td>1711319.0</td>\n",
              "      <td>1762621.0</td>\n",
              "      <td>1814135.0</td>\n",
              "      <td>1864791.0</td>\n",
              "      <td>...</td>\n",
              "      <td>2947314.0</td>\n",
              "      <td>2927519.0</td>\n",
              "      <td>2913021.0</td>\n",
              "      <td>2905195.0</td>\n",
              "      <td>2900401.0</td>\n",
              "      <td>2895092.0</td>\n",
              "      <td>2889104.0</td>\n",
              "      <td>2880703.0</td>\n",
              "      <td>2876101.0</td>\n",
              "      <td>2873457.0</td>\n",
              "    </tr>\n",
              "    <tr>\n",
              "      <th>4</th>\n",
              "      <td>Andorra</td>\n",
              "      <td>AND</td>\n",
              "      <td>Population, total</td>\n",
              "      <td>SP.POP.TOTL</td>\n",
              "      <td>13411.0</td>\n",
              "      <td>14375.0</td>\n",
              "      <td>15370.0</td>\n",
              "      <td>16412.0</td>\n",
              "      <td>17469.0</td>\n",
              "      <td>18549.0</td>\n",
              "      <td>...</td>\n",
              "      <td>83861.0</td>\n",
              "      <td>84462.0</td>\n",
              "      <td>84449.0</td>\n",
              "      <td>83751.0</td>\n",
              "      <td>82431.0</td>\n",
              "      <td>80788.0</td>\n",
              "      <td>79223.0</td>\n",
              "      <td>78014.0</td>\n",
              "      <td>77281.0</td>\n",
              "      <td>76965.0</td>\n",
              "    </tr>\n",
              "  </tbody>\n",
              "</table>\n",
              "<p>5 rows × 62 columns</p>\n",
              "</div>\n",
              "      <button class=\"colab-df-convert\" onclick=\"convertToInteractive('df-dfd07373-fb71-42ba-98bc-698006912bec')\"\n",
              "              title=\"Convert this dataframe to an interactive table.\"\n",
              "              style=\"display:none;\">\n",
              "        \n",
              "  <svg xmlns=\"http://www.w3.org/2000/svg\" height=\"24px\"viewBox=\"0 0 24 24\"\n",
              "       width=\"24px\">\n",
              "    <path d=\"M0 0h24v24H0V0z\" fill=\"none\"/>\n",
              "    <path d=\"M18.56 5.44l.94 2.06.94-2.06 2.06-.94-2.06-.94-.94-2.06-.94 2.06-2.06.94zm-11 1L8.5 8.5l.94-2.06 2.06-.94-2.06-.94L8.5 2.5l-.94 2.06-2.06.94zm10 10l.94 2.06.94-2.06 2.06-.94-2.06-.94-.94-2.06-.94 2.06-2.06.94z\"/><path d=\"M17.41 7.96l-1.37-1.37c-.4-.4-.92-.59-1.43-.59-.52 0-1.04.2-1.43.59L10.3 9.45l-7.72 7.72c-.78.78-.78 2.05 0 2.83L4 21.41c.39.39.9.59 1.41.59.51 0 1.02-.2 1.41-.59l7.78-7.78 2.81-2.81c.8-.78.8-2.07 0-2.86zM5.41 20L4 18.59l7.72-7.72 1.47 1.35L5.41 20z\"/>\n",
              "  </svg>\n",
              "      </button>\n",
              "      \n",
              "  <style>\n",
              "    .colab-df-container {\n",
              "      display:flex;\n",
              "      flex-wrap:wrap;\n",
              "      gap: 12px;\n",
              "    }\n",
              "\n",
              "    .colab-df-convert {\n",
              "      background-color: #E8F0FE;\n",
              "      border: none;\n",
              "      border-radius: 50%;\n",
              "      cursor: pointer;\n",
              "      display: none;\n",
              "      fill: #1967D2;\n",
              "      height: 32px;\n",
              "      padding: 0 0 0 0;\n",
              "      width: 32px;\n",
              "    }\n",
              "\n",
              "    .colab-df-convert:hover {\n",
              "      background-color: #E2EBFA;\n",
              "      box-shadow: 0px 1px 2px rgba(60, 64, 67, 0.3), 0px 1px 3px 1px rgba(60, 64, 67, 0.15);\n",
              "      fill: #174EA6;\n",
              "    }\n",
              "\n",
              "    [theme=dark] .colab-df-convert {\n",
              "      background-color: #3B4455;\n",
              "      fill: #D2E3FC;\n",
              "    }\n",
              "\n",
              "    [theme=dark] .colab-df-convert:hover {\n",
              "      background-color: #434B5C;\n",
              "      box-shadow: 0px 1px 3px 1px rgba(0, 0, 0, 0.15);\n",
              "      filter: drop-shadow(0px 1px 2px rgba(0, 0, 0, 0.3));\n",
              "      fill: #FFFFFF;\n",
              "    }\n",
              "  </style>\n",
              "\n",
              "      <script>\n",
              "        const buttonEl =\n",
              "          document.querySelector('#df-dfd07373-fb71-42ba-98bc-698006912bec button.colab-df-convert');\n",
              "        buttonEl.style.display =\n",
              "          google.colab.kernel.accessAllowed ? 'block' : 'none';\n",
              "\n",
              "        async function convertToInteractive(key) {\n",
              "          const element = document.querySelector('#df-dfd07373-fb71-42ba-98bc-698006912bec');\n",
              "          const dataTable =\n",
              "            await google.colab.kernel.invokeFunction('convertToInteractive',\n",
              "                                                     [key], {});\n",
              "          if (!dataTable) return;\n",
              "\n",
              "          const docLinkHtml = 'Like what you see? Visit the ' +\n",
              "            '<a target=\"_blank\" href=https://colab.research.google.com/notebooks/data_table.ipynb>data table notebook</a>'\n",
              "            + ' to learn more about interactive tables.';\n",
              "          element.innerHTML = '';\n",
              "          dataTable['output_type'] = 'display_data';\n",
              "          await google.colab.output.renderOutput(dataTable, element);\n",
              "          const docLink = document.createElement('div');\n",
              "          docLink.innerHTML = docLinkHtml;\n",
              "          element.appendChild(docLink);\n",
              "        }\n",
              "      </script>\n",
              "    </div>\n",
              "  </div>\n",
              "  "
            ]
          },
          "metadata": {},
          "execution_count": 18
        }
      ]
    },
    {
      "cell_type": "markdown",
      "source": [
        "### Extract XML"
      ],
      "metadata": {
        "id": "z68139z8gA33"
      }
    },
    {
      "cell_type": "code",
      "source": [
        "!pip install bs4"
      ],
      "metadata": {
        "colab": {
          "base_uri": "https://localhost:8080/"
        },
        "id": "Pk0E-hPbfpRV",
        "outputId": "568de5a0-cdda-49d8-c471-869854154608"
      },
      "execution_count": null,
      "outputs": [
        {
          "output_type": "stream",
          "name": "stdout",
          "text": [
            "Looking in indexes: https://pypi.org/simple, https://us-python.pkg.dev/colab-wheels/public/simple/\n",
            "Requirement already satisfied: bs4 in /usr/local/lib/python3.7/dist-packages (0.0.1)\n",
            "Requirement already satisfied: beautifulsoup4 in /usr/local/lib/python3.7/dist-packages (from bs4) (4.6.3)\n"
          ]
        }
      ]
    },
    {
      "cell_type": "code",
      "source": [
        "from bs4 import BeautifulSoup"
      ],
      "metadata": {
        "id": "-NK1wJljgVz-"
      },
      "execution_count": null,
      "outputs": []
    },
    {
      "cell_type": "code",
      "source": [
        "with open(\"population_data.xml\") as fp: \n",
        "  soup = BeautifulSoup(fp, \"lxml\")"
      ],
      "metadata": {
        "id": "32mwVCp5gbJy"
      },
      "execution_count": null,
      "outputs": []
    },
    {
      "cell_type": "code",
      "source": [
        "i = 0\n",
        "for record in soup.find_all('record'):\n",
        "  i += 1\n",
        "  for record in record.find_all('field'):\n",
        "    print(record['name'], ':', record.text)\n",
        "  print()\n",
        "  if i == 5:\n",
        "    break"
      ],
      "metadata": {
        "colab": {
          "base_uri": "https://localhost:8080/"
        },
        "id": "E-QYl141gnGn",
        "outputId": "9d8c43fa-5818-4c31-b083-18c08da9392c"
      },
      "execution_count": null,
      "outputs": [
        {
          "output_type": "stream",
          "name": "stdout",
          "text": [
            "Country or Area : Aruba\n",
            "Item : Population, total\n",
            "Year : 1960\n",
            "Value : 54211\n",
            "\n",
            "Country or Area : Aruba\n",
            "Item : Population, total\n",
            "Year : 1961\n",
            "Value : 55438\n",
            "\n",
            "Country or Area : Aruba\n",
            "Item : Population, total\n",
            "Year : 1962\n",
            "Value : 56225\n",
            "\n",
            "Country or Area : Aruba\n",
            "Item : Population, total\n",
            "Year : 1963\n",
            "Value : 56695\n",
            "\n",
            "Country or Area : Aruba\n",
            "Item : Population, total\n",
            "Year : 1964\n",
            "Value : 57032\n",
            "\n"
          ]
        }
      ]
    },
    {
      "cell_type": "markdown",
      "source": [
        "### Extract Database"
      ],
      "metadata": {
        "id": "6kwxqzuEjHO3"
      }
    },
    {
      "cell_type": "code",
      "source": [
        "import sqlite3"
      ],
      "metadata": {
        "id": "_iW6L9W6g-wM"
      },
      "execution_count": null,
      "outputs": []
    },
    {
      "cell_type": "code",
      "source": [
        "#connection to database\n",
        "conn = sqlite3.connect('population_data.db')"
      ],
      "metadata": {
        "id": "Wz265QUHjadY"
      },
      "execution_count": null,
      "outputs": []
    },
    {
      "cell_type": "code",
      "source": [
        "#run a query\n",
        "pd.read_sql('SELECT * FROM ')"
      ],
      "metadata": {
        "id": "7bFVNG8CjmwU"
      },
      "execution_count": null,
      "outputs": []
    }
  ]
}